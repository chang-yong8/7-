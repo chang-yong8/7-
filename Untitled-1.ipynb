{
 "cells": [
  {
   "cell_type": "code",
   "execution_count": null,
   "metadata": {},
   "outputs": [],
   "source": [
    "# 0. 테이블 생성 : 수험자리스트, 시험 정보\n",
    "import oracledb\n",
    "oracledb.init_oracle_client()\n",
    "\n",
    "try:\n",
    "    conn = oracledb.connect('SCOTT/TIGER@localhost:1521/xe')\n",
    "    cur = conn.cursor()\n",
    "    sql = 'create table examinee_info(ex_num number, name varchar2(10), gender varchar2(10), sub_num number)'\n",
    "    cur.execute(sql)\n",
    "    conn.commit()\n",
    "    sql = 'create table test_info(sub_num number, loc varchar2(10), time varchar2(10))'\n",
    "    cur.execute(sql)\n",
    "    conn.commit()\n",
    "    conn.close()\n",
    "except Exception as e:\n",
    "    print('이미 있습니다.')\n",
    "\n",
    "\n",
    "# 1. 로그인\n",
    "while True:\n",
    "    logon = input('코드를 입력하세요')\n",
    "# 1 - 1. 관리자 (정규표현식 사용하여)\n",
    "# - 수험자 인적 사항 입력\n",
    "# - 수험자 인적 사항 조회\n",
    "# - 시험 정보 입력\n",
    "# - 시험 결과 확인\n",
    "    if logon == 'gg':\n",
    "        while True:\n",
    "            menu = input()\n",
    "            if menu == '1':\n",
    "                pass\n",
    "            elif menu == '2':\n",
    "                pass\n",
    "            elif menu == 'q':\n",
    "                print('종료합니다.')\n",
    "                break\n",
    "            else:\n",
    "                print('다시 입력하세요')\n",
    "# 1 - 2. 수험자 (수험 번호 테이블에서 조회하여 로그인)\n",
    "# - 수험자 인적사항 조회\n",
    "# - 수험자 응시 결과 조회\n",
    "# - 수험자 인적 사항 삭제\n",
    "# - 시험 응시\n",
    "    elif logon == 'ff':\n",
    "        while True:\n",
    "            menu = input()\n",
    "            if menu == '1':\n",
    "                pass\n",
    "            elif menu == '2':\n",
    "                pass\n",
    "            elif menu == 'q':\n",
    "                print('종료합니다.')\n",
    "                break\n",
    "            else:\n",
    "                print('다시 입력하세요')\n",
    "    elif logon == 'q':\n",
    "        print('종료합니다.')\n",
    "        break\n",
    "    else:\n",
    "        print('다시 입력하세요')"
   ]
  }
 ],
 "metadata": {
  "kernelspec": {
   "display_name": "base",
   "language": "python",
   "name": "python3"
  },
  "language_info": {
   "codemirror_mode": {
    "name": "ipython",
    "version": 3
   },
   "file_extension": ".py",
   "mimetype": "text/x-python",
   "name": "python",
   "nbconvert_exporter": "python",
   "pygments_lexer": "ipython3",
   "version": "3.9.13"
  },
  "orig_nbformat": 4,
  "vscode": {
   "interpreter": {
    "hash": "610a6f344c2137faf927ea819c63f6cee33a2c04455044b28099f39fe9722347"
   }
  }
 },
 "nbformat": 4,
 "nbformat_minor": 2
}
